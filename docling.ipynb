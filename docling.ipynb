{
 "cells": [
  {
   "cell_type": "code",
   "execution_count": 1,
   "id": "141fc9cc",
   "metadata": {},
   "outputs": [],
   "source": [
    "from langchain_core.prompts import ChatPromptTemplate\n",
    "from langchain_core.output_parsers import StrOutputParser\n",
    "from gen_ai_hub.proxy.core.proxy_clients import get_proxy_client\n",
    "from gen_ai_hub.proxy.langchain.openai import (\n",
    "    ChatOpenAI,\n",
    "    OpenAIEmbeddings,\n",
    ")\n",
    "import base64\n",
    "import io\n",
    "from PIL import Image as PILImage\n",
    "\n",
    "\n",
    "# Initialize the proxy client and models\n",
    "# proxy_client = get_proxy_client(\"gen-ai-hub\")\n",
    "\n",
    "# model = ChatOpenAI(proxy_model_name=\"gpt-4o\", proxy_client=proxy_client, temperature=0)\n",
    "# embedding_model = OpenAIEmbeddings(\n",
    "#     proxy_model_name=\"text-embedding-3-small\", proxy_client=proxy_client\n",
    "# )"
   ]
  },
  {
   "cell_type": "code",
   "execution_count": 2,
   "id": "c1262f91",
   "metadata": {},
   "outputs": [],
   "source": [
    "def display_element(el):\n",
    "    try:\n",
    "        if hasattr(el, \"metadata\") and hasattr(el.metadata, \"image_base64\"):\n",
    "            img_data = el.metadata.image_base64\n",
    "            img_bytes = base64.b64decode(img_data)\n",
    "            img = PILImage.open(io.BytesIO(img_bytes))\n",
    "            img.show()\n",
    "    except Exception as e:\n",
    "        print(f\"Error displaying element: {e}\")"
   ]
  },
  {
   "cell_type": "code",
   "execution_count": 3,
   "id": "06c3962e",
   "metadata": {},
   "outputs": [
    {
     "name": "stderr",
     "output_type": "stream",
     "text": [
      "/Users/I762349/Projects/guideline_rag/.venv/lib/python3.13/site-packages/tqdm/auto.py:21: TqdmWarning: IProgress not found. Please update jupyter and ipywidgets. See https://ipywidgets.readthedocs.io/en/stable/user_install.html\n",
      "  from .autonotebook import tqdm as notebook_tqdm\n"
     ]
    }
   ],
   "source": [
    "from typing import Iterable, Optional\n",
    "from docling_core.transforms.chunker.hybrid_chunker import HybridChunker\n",
    "from docling_core.transforms.chunker.tokenizer.base import BaseTokenizer\n",
    "from docling_core.transforms.chunker.tokenizer.huggingface import HuggingFaceTokenizer\n",
    "from transformers import AutoTokenizer\n",
    "from docling_core.transforms.chunker.base import BaseChunk\n",
    "from docling_core.transforms.chunker.hierarchical_chunker import DocChunk\n",
    "from docling_core.types.doc.labels import DocItemLabel\n",
    "from rich.console import Console\n",
    "from rich.panel import Panel\n",
    "\n",
    "console = Console(\n",
    "    width=200,  # for getting Markdown tables rendered nicely\n",
    ")\n",
    "\n",
    "EMBED_MODEL_ID = \"jinaai/jina-embeddings-v3\"\n",
    "\n",
    "tokenizer: BaseTokenizer = HuggingFaceTokenizer(\n",
    "    tokenizer=AutoTokenizer.from_pretrained(EMBED_MODEL_ID, trust_remote_code=True),\n",
    ")\n",
    "chunker = HybridChunker(tokenizer=tokenizer)\n",
    "\n",
    "\n",
    "def find_n_th_chunk_with_label(\n",
    "    iter: Iterable[BaseChunk], n: int, label: DocItemLabel\n",
    ") -> Optional[DocChunk]:\n",
    "    num_found = -1\n",
    "    for i, chunk in enumerate(iter):\n",
    "        doc_chunk = DocChunk.model_validate(chunk)\n",
    "        for it in doc_chunk.meta.doc_items:\n",
    "            if it.label == label:\n",
    "                num_found += 1\n",
    "                if num_found == n:\n",
    "                    return i, chunk\n",
    "    return None, None\n",
    "\n",
    "\n",
    "def print_chunk(chunks, chunk_pos):\n",
    "    chunk = chunks[chunk_pos]\n",
    "    ctx_text = chunker.contextualize(chunk=chunk)\n",
    "    num_tokens = tokenizer.count_tokens(text=ctx_text)\n",
    "    doc_items_refs = [it.self_ref for it in chunk.meta.doc_items]\n",
    "    title = f\"{chunk_pos=} {num_tokens=} {doc_items_refs=}\"\n",
    "    console.print(Panel(ctx_text, title=title))"
   ]
  },
  {
   "cell_type": "code",
   "execution_count": 5,
   "id": "81957151",
   "metadata": {},
   "outputs": [
    {
     "name": "stderr",
     "output_type": "stream",
     "text": [
      "/Users/I762349/Projects/guideline_rag/.venv/lib/python3.13/site-packages/torch/utils/data/dataloader.py:683: UserWarning: 'pin_memory' argument is set as true but not supported on MPS now, then device pinned memory won't be used.\n",
      "  warnings.warn(warn_msg)\n"
     ]
    }
   ],
   "source": [
    "from docling.document_converter import DocumentConverter, PdfFormatOption\n",
    "from docling.datamodel.pipeline_options import (\n",
    "    PdfPipelineOptions,\n",
    "    PictureDescriptionVlmOptions,\n",
    ")\n",
    "from docling.datamodel.base_models import InputFormat\n",
    "\n",
    "pdf_opts = PdfPipelineOptions(\n",
    "    do_ocr=True,\n",
    "    do_table_structure=True,\n",
    "    do_picture_description=False,  # set to FALSE, will do this later\n",
    "    generate_page_images=True,  # Seiten‐Renders erzeugen, damit Crops möglich sind\n",
    "    generate_picture_images=True,\n",
    "    generate_table_images=True,\n",
    "    \n",
    "    # picture_description_options=PictureDescriptionVlmOptions(\n",
    "    #     repo_id=\"Qwen/Qwen2.5-VL-7B-Instruct\",\n",
    "    #     prompt=\"Erklär, was auf dem Bild zu sehen ist. Sei präzise und beschreibe die wichtigsten Details.\",\n",
    "    #     generation_config={\n",
    "    #         \"max_new_tokens\": 500,\n",
    "    #     },\n",
    "    #     picture_area_threshold=0.1,\n",
    "    # ),\n",
    ")\n",
    "\n",
    "converter = DocumentConverter(\n",
    "    format_options={\n",
    "        InputFormat.PDF: PdfFormatOption(\n",
    "            pipeline_options=pdf_opts,\n",
    "        )\n",
    "    }\n",
    ")\n",
    "\n",
    "INPUT_PDFS = [\n",
    "    \"pdfs/001_044l_S1Praevention-Therapie-systemischen-Lokalanaesthetika-Intoxikation-LAST_2025-01-abgelaufen.pdf\",\n",
    "    \"pdfs/test/184-001l_S2e_Soziale-Teilhabe-Lebensqualitaet-stationaere-Altenhilfe-Pandemie_2025-03.pdf\",\n",
    "    \"pdfs/test/083-053l_S3_Vollkeramische-festsitzende-implantatgetragene-Restaurationen_2025-02.pdf\",\n",
    "    \"pdfs/179-009l_S2e_Rehabilitation-untere-Extremitaet-Stehfunktion-Gehfunktion-Querschnittlaehmung_2024-07_1.pdf\"\n",
    "]\n",
    "\n",
    "res = converter.convert(INPUT_PDFS[3])\n",
    "doc = res.document"
   ]
  },
  {
   "cell_type": "code",
   "execution_count": null,
   "id": "a81fafa4",
   "metadata": {},
   "outputs": [],
   "source": [
    "from copy import deepcopy\n",
    "# doc_1 = deepcopy(doc)\n",
    "# res_1 = res\n",
    "# doc_2 = deepcopy(doc)\n",
    "# res_2 = res"
   ]
  },
  {
   "cell_type": "markdown",
   "id": "7cde6ab1",
   "metadata": {},
   "source": [
    "# Image Processing"
   ]
  },
  {
   "cell_type": "markdown",
   "id": "f6f7df5a",
   "metadata": {},
   "source": [
    "## Filter small images"
   ]
  },
  {
   "cell_type": "code",
   "execution_count": 8,
   "id": "b1062c40",
   "metadata": {},
   "outputs": [
    {
     "name": "stdout",
     "output_type": "stream",
     "text": [
      "Image #/pictures/0\n",
      "\n",
      "[]\n"
     ]
    },
    {
     "data": {
      "text/html": [
       "<img src=\"data:image/png;base64,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\" /><br />"
      ],
      "text/plain": [
       "<IPython.core.display.HTML object>"
      ]
     },
     "metadata": {},
     "output_type": "display_data"
    },
    {
     "name": "stdout",
     "output_type": "stream",
     "text": [
      "Image #/pictures/1\n",
      "\n",
      "[]\n"
     ]
    },
    {
     "data": {
      "text/html": [
       "<img src=\"data:image/png;base64,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\" /><br />"
      ],
      "text/plain": [
       "<IPython.core.display.HTML object>"
      ]
     },
     "metadata": {},
     "output_type": "display_data"
    }
   ],
   "source": [
    "from docling_core.types.doc.document import ImageRef\n",
    "from IPython.display import HTML\n",
    "\n",
    "def display_image_obj(image_obj: ImageRef):\n",
    "    html_image = f'<img src=\"{image_obj.uri!s}\" /><br />'\n",
    "    display(HTML(html_image))\n",
    "\n",
    "for image_obj in doc.pictures:\n",
    "    print(f\"Image {image_obj.self_ref}\")\n",
    "    print(image_obj.caption_text(doc=doc))\n",
    "    print(image_obj.annotations)\n",
    "    display_image_obj(image_obj.image)\n",
    "    "
   ]
  },
  {
   "cell_type": "code",
   "execution_count": null,
   "id": "09ed9282",
   "metadata": {},
   "outputs": [],
   "source": [
    "def filter_small_pictures(doc):\n",
    "    MIN_W, MIN_H = 75, 75\n",
    "\n",
    "    valid_pics = []\n",
    "    for pic in doc.pictures:\n",
    "        w, h = pic.image.size.width, pic.image.size.height\n",
    "        if w >= MIN_W and h >= MIN_H:\n",
    "            valid_pics.append(pic)\n",
    "    doc.pictures = valid_pics\n",
    "\n",
    "    valid_refs = {doc.body.self_ref}\n",
    "    for seq in (doc.texts, doc.tables, doc.pictures, doc.groups):\n",
    "        valid_refs.update(item.self_ref for item in seq)\n",
    "\n",
    "    all_groups = list(doc.groups) + [doc.body]\n",
    "    for grp in all_groups:\n",
    "        grp.children = [r for r in grp.children if r.cref in valid_refs]\n",
    "\n",
    "filter_small_pictures(doc)\n",
    "for image_obj in doc.pictures:\n",
    "    print(f\"Image {image_obj.self_ref}\")\n",
    "    print(image_obj.caption_text(doc=doc))\n",
    "    print(image_obj.annotations)\n",
    "    display_image_obj(image_obj.image)\n",
    "    \n",
    "\n",
    "# TODO got an error with table.image after filtering images (doc 1)"
   ]
  },
  {
   "cell_type": "code",
   "execution_count": null,
   "id": "f394b559",
   "metadata": {},
   "outputs": [],
   "source": [
    "doc.pictures"
   ]
  },
  {
   "cell_type": "markdown",
   "id": "0d56af12",
   "metadata": {},
   "source": [
    "## Annotate pictures"
   ]
  },
  {
   "cell_type": "code",
   "execution_count": 11,
   "id": "374e1aaf",
   "metadata": {},
   "outputs": [
    {
     "name": "stderr",
     "output_type": "stream",
     "text": [
      "Loading checkpoint shards: 100%|██████████| 2/2 [00:05<00:00,  2.59s/it]\n",
      "Using a slow image processor as `use_fast` is unset and a slow processor was saved with this model. `use_fast=True` will be the default behavior in v4.52, even if the model was saved with a slow processor. This will result in minor differences in outputs. You'll still be able to use a slow processor with `use_fast=False`.\n"
     ]
    }
   ],
   "source": [
    "from transformers import Qwen2_5_VLForConditionalGeneration, AutoTokenizer, AutoProcessor\n",
    "vlm = Qwen2_5_VLForConditionalGeneration.from_pretrained(\n",
    "    \"Qwen/Qwen2.5-VL-3B-Instruct\", torch_dtype=\"auto\", device_map=\"auto\"  # TODO change to 32B for production\n",
    ")\n",
    "processor = AutoProcessor.from_pretrained(\"Qwen/Qwen2.5-VL-3B-Instruct\")"
   ]
  },
  {
   "cell_type": "code",
   "execution_count": null,
   "id": "157c8a86",
   "metadata": {},
   "outputs": [],
   "source": [
    "image_data = str(doc.pictures[0].image.uri._url)\n",
    "image_data"
   ]
  },
  {
   "cell_type": "code",
   "execution_count": null,
   "id": "a9dd6c95",
   "metadata": {},
   "outputs": [],
   "source": [
    "from qwen_vl_utils import process_vision_info\n",
    "from copy import deepcopy\n",
    "from docling_core.types.doc.document import PictureDescriptionData\n",
    "\n",
    "def annotate_picture(picture):\n",
    "    messages = [\n",
    "        {\n",
    "            \"role\": \"user\",\n",
    "            \"content\": [\n",
    "                {\n",
    "                    \"type\": \"image\",\n",
    "                    \"image\": str(picture.image.uri._url),\n",
    "                },\n",
    "                {\"type\": \"text\", \"text\": \"Du bist ein medizinischer Experte. Beschreibe detailliert was du auf diesem Bild siehst. Das Bild stammt aus einer medizinischen Leitlinie.\"},\n",
    "            ],\n",
    "        }\n",
    "    ]\n",
    "    text = processor.apply_chat_template(\n",
    "        messages, tokenize=False, add_generation_prompt=True\n",
    "    )\n",
    "    image_inputs, _ = process_vision_info(messages)\n",
    "    inputs = processor(\n",
    "        text=[text],\n",
    "        images=image_inputs,\n",
    "        padding=True,\n",
    "        return_tensors=\"pt\",\n",
    "    )\n",
    "    inputs = inputs.to(\"mps\")  # TODO change to cuda for production\n",
    "\n",
    "    generated_ids = vlm.generate(**inputs, max_new_tokens=600)\n",
    "    generated_ids_trimmed = [\n",
    "        out_ids[len(in_ids) :] for in_ids, out_ids in zip(inputs.input_ids, generated_ids)\n",
    "    ]\n",
    "    output_text = processor.batch_decode(\n",
    "        generated_ids_trimmed, skip_special_tokens=True, clean_up_tokenization_spaces=False\n",
    "    )\n",
    "    picture.annotations = [PictureDescriptionData(kind='description', text=output_text[0], provenance='Qwen2.5-VL-3B-Instruct')]  # TODO change model for production\n",
    "\n",
    "if doc.pictures:\n",
    "    for picture in doc.pictures:\n",
    "        annotate_picture(picture)\n",
    "    doc.pictures[1].annotations"
   ]
  },
  {
   "cell_type": "markdown",
   "id": "7891dea8",
   "metadata": {},
   "source": [
    "# Tables"
   ]
  },
  {
   "cell_type": "markdown",
   "id": "919ad9ad",
   "metadata": {},
   "source": [
    "## Identify legend table"
   ]
  },
  {
   "cell_type": "code",
   "execution_count": 6,
   "id": "494c3522",
   "metadata": {},
   "outputs": [],
   "source": [
    "from transformers import AutoModel\n",
    "from langchain_core.vectorstores import InMemoryVectorStore\n",
    "from langchain.embeddings.base import Embeddings\n",
    "\n",
    "class CustomHFEmbeddings(Embeddings):\n",
    "    def __init__(self, hf_model):\n",
    "        self.model = hf_model\n",
    "\n",
    "    def embed_documents(self, texts: list[str]) -> list[list[float]]:\n",
    "        return self.model.encode(texts, task=\"retrieval.passage\")\n",
    "\n",
    "    def embed_query(self, text: str) -> list[float]:\n",
    "        return self.model.encode([text], task=\"retrieval.query\")[0]\n",
    "\n",
    "embedder = AutoModel.from_pretrained(\"jinaai/jina-embeddings-v3\", trust_remote_code=True)\n",
    "\n",
    "lc_embeddings = CustomHFEmbeddings(embedder)\n",
    "\n",
    "temp_vector_store = InMemoryVectorStore(embedding=lc_embeddings)"
   ]
  },
  {
   "cell_type": "code",
   "execution_count": 9,
   "id": "cf00a593",
   "metadata": {},
   "outputs": [
    {
     "data": {
      "text/html": [
       "<img src=\"data:image/png;base64,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\" /><br />"
      ],
      "text/plain": [
       "<IPython.core.display.HTML object>"
      ]
     },
     "metadata": {},
     "output_type": "display_data"
    }
   ],
   "source": [
    "# Collect one string per table (or per cell, as you prefer)\n",
    "table_texts = []\n",
    "for table in res.document.tables:\n",
    "    # Join all cells in this table by rows\n",
    "    rows = []\n",
    "    for row in table.data.grid:\n",
    "        row_text = \" \\t \".join(cell.text for cell in row)\n",
    "        rows.append(row_text)\n",
    "    table_texts.append(\"\\n\".join(rows))\n",
    "\n",
    "temp_vector_store.add_texts(table_texts, ids=[table.self_ref for table in doc.tables])\n",
    "\n",
    "legend_tabe_candidates = temp_vector_store.similarity_search(\"Welche Empfehlungsgrade sind definiert? Was bedeuten sie? Welches Symbol wird in der Legende verwendet?\", k=3)\n",
    "legend_table = next(table for table in doc.tables if table.self_ref == legend_tabe_candidates[0].id)\n",
    "display_image_obj(legend_table.image)"
   ]
  },
  {
   "cell_type": "markdown",
   "id": "92036b48",
   "metadata": {},
   "source": [
    "## Create symbol legend"
   ]
  },
  {
   "cell_type": "code",
   "execution_count": null,
   "id": "a643c04b",
   "metadata": {},
   "outputs": [],
   "source": [
    "{\n",
    "    \"A\": \"Starke Empfehlung\",\n",
    "    \"Zwei Pfeile nach oben\": \"Starke Empfehlung\",\n",
    "    \"Zwei Pfeile nach unten\": \"Starke Empfehlung\",\n",
    "    \"B\": \"Schwache Empfehlung\",\n",
    "    \"Ein Pfeil nach oben\": \"Schwache Empfehlung\",\n",
    "    \"Ein Pfeil nach unten\": \"Schwache Empfehlung\",\n",
    "    \"0\": \"Empfehlung offen\",\n",
    "    \"Waagerechter Pfeil\": \"Empfehlung offen\",\n",
    "}\n",
    "\"{\\n\"\n",
    "                '  \"A\": \"Starke Empfehlung\",\\n'\n",
    "                '  \"⇑⇑\": \"Starke Empfehlung\",\\n'\n",
    "                '  \"⇓⇓\": \"Starke Empfehlung\",\\n'\n",
    "                '  \"B\": \"Schwache Empfehlung\",\\n'\n",
    "                '  \"⇑\": \"Schwache Empfehlung\",\\n'\n",
    "                '  \"⇓\": \"Schwache Empfehlung\",\\n'\n",
    "                '  \"0\": \"Empfehlung offen\",\\n'\n",
    "                '  \"⇔\": \"Empfehlung offen\"\\n'\n",
    "                \"}\\n\""
   ]
  },
  {
   "cell_type": "code",
   "execution_count": null,
   "id": "1552428d",
   "metadata": {},
   "outputs": [],
   "source": [
    "legend_table.data.grid"
   ]
  },
  {
   "cell_type": "code",
   "execution_count": null,
   "id": "6f0b0590",
   "metadata": {},
   "outputs": [],
   "source": [
    "legend_table.export_to_markdown(doc=doc)"
   ]
  },
  {
   "cell_type": "code",
   "execution_count": null,
   "id": "53aee085",
   "metadata": {},
   "outputs": [],
   "source": [
    "legend_table.export_to_html(doc=doc)"
   ]
  },
  {
   "cell_type": "code",
   "execution_count": null,
   "id": "e29bae48",
   "metadata": {},
   "outputs": [],
   "source": [
    "# doc_2_table = deepcopy(legend_table)\n",
    "# doc_2_table_image = deepcopy(str(table.image.uri._url))"
   ]
  },
  {
   "cell_type": "code",
   "execution_count": 13,
   "id": "8b3b7cf0",
   "metadata": {},
   "outputs": [
    {
     "name": "stdout",
     "output_type": "stream",
     "text": [
      "Hier ist das Python-Dictionary, das basierend auf der Legendentabelle erstellt wurde:\n",
      "\n",
      "```python\n",
      "{\n",
      "    \"A\": \"Starke Empfehlung\",\n",
      "    \"⇑⇑\": \"Starke Empfehlung\",\n",
      "    \"⇓⇓\": \"Starke Empfehlung\",\n",
      "    \"B\": \"Schwache Empfehlung\",\n",
      "    \"⇑\": \"Schwache Empfehlung\",\n",
      "    \"⇓\": \"Schwache Empfehlung\",\n",
      "    \"0\": \"Empfehlung offen\",\n",
      "    \"⇔\": \"Empfehlung offen\"\n",
      "}\n",
      "```\n",
      "\n",
      "Dieses Dictionary enthält alle notwendigen Schlüssel und Werte gemäß der Beschreibung in der Legendentabelle.\n"
     ]
    }
   ],
   "source": [
    "def extract_legend_with_html_and_image(table, doc):\n",
    "    # 1. Hole das HTML (ohne Bild-Tags, das macht der VLM auf der Bild-Ebene)\n",
    "    table_html = table.export_to_html(doc=doc)\n",
    "\n",
    "    # 2. Baue Deinen Prompt inkl. Beispiel-Output-Schema\n",
    "    messages = [{\n",
    "        \"role\": \"user\",\n",
    "        \"content\": [\n",
    "            # a) Bild der Legende\n",
    "            {\"type\": \"image\", \"image\": str(table.image.uri._url)},\n",
    "            # b) Anweisung und Beispiel\n",
    "            {\"type\": \"text\", \"text\":\n",
    "                \"Du bist medizinischer Experte. Aus der abgebildeten Legendentabelle \"\n",
    "                \"sollst Du ein Python-Dictionary bauen, das **jedes** Symbol (Pfeile) und \"\n",
    "                \"auch jeden Eintrag der ersten Spalte (die Buchstaben A, B, 0) als Key \"\n",
    "                \"und als Value die Kurzbeschreibung der Empfehlungsstärke abbildet. \"\n",
    "                \"Verwende als Schlüssel **genau den String, den das Symbol darstellt** \"\n",
    "                \"(z.B. „⇑⇑“ oder „Ein Pfeil nach oben“) bzw. den Buchstaben selbst.  \\n\"\n",
    "                \"```json\\n\"\n",
    "                \"{\\n\"\n",
    "                '  \"A\": \"Starke Empfehlung\",\\n'\n",
    "                '  \"⇑⇑\": \"Starke Empfehlung\",\\n'\n",
    "                '  \"⇓⇓\": \"Starke Empfehlung\",\\n'\n",
    "                '  \"B\": \"Schwache Empfehlung\",\\n'\n",
    "                '  \"⇑\": \"Schwache Empfehlung\",\\n'\n",
    "                '  \"⇓\": \"Schwache Empfehlung\",\\n'\n",
    "                '  \"0\": \"Empfehlung offen\",\\n'\n",
    "                '  \"⇔\": \"Empfehlung offen\"\\n'\n",
    "                \"}\\n\"\n",
    "                \"```\"\n",
    "            },\n",
    "            # c) Das rohe HTML der Tabelle\n",
    "            {\"type\": \"text\", \"text\": table_html},\n",
    "        ],\n",
    "    }]\n",
    "\n",
    "    # 3. Template anwenden und Inputs erzeugen\n",
    "    text = processor.apply_chat_template(messages, tokenize=False, add_generation_prompt=True)\n",
    "    image_inputs, _ = process_vision_info(messages)\n",
    "    inputs = processor(\n",
    "        text=[text], images=image_inputs,\n",
    "        padding=True, return_tensors=\"pt\"\n",
    "    ).to(\"mps\")\n",
    "\n",
    "    # 4. Generieren und Decoden\n",
    "    out_ids = vlm.generate(**inputs, max_new_tokens=200)\n",
    "    trimmed = out_ids[:, inputs.input_ids.shape[1]:]\n",
    "    result_json = processor.batch_decode(trimmed, skip_special_tokens=True)[0]\n",
    "\n",
    "    return result_json\n",
    "\n",
    "\n",
    "legend_json = extract_legend_with_html_and_image(\n",
    "    legend_table, res.document\n",
    ")\n",
    "print(legend_json)\n"
   ]
  },
  {
   "cell_type": "code",
   "execution_count": null,
   "id": "77c6df3e",
   "metadata": {},
   "outputs": [],
   "source": [
    "def create_symbol_legend(table):\n",
    "    table_text = table.export_to_html(doc=doc)\n",
    "    messages = [\n",
    "        {\n",
    "            \"role\": \"user\",\n",
    "            \"content\": [\n",
    "                {\n",
    "                    \"type\": \"image\",\n",
    "                    \"image\": str(picture.image.uri._url),\n",
    "                },\n",
    "                {\"type\": \"text\", \"text\": \"Du bist ein medizinischer Experte. Auf der abgebildeten Tabelle siehst du, wie in einer medizinischen Leitlinie Empfehlungsgrade dargestellt werden. \"\n",
    "                 \"Erstelle ein dictionary, das die Bedeutung der einzelnen Empfehlungsgrade erklärt. Das dictionary soll die Struktur haben: {'Symbol': 'Bedeutung'}. \"\n",
    "                 \"Wenn das Symbol im Text vorkommt, benutze es als Schlüssel. \"\n",
    "                 \"Wenn das Symbol nicht im Text vorkommt, beschreibe es knapp.\\n\\n\"\n",
    "                },\n",
    "                {\n",
    "                    \"type\": \"text\",\n",
    "                    \"text\": table_text,\n",
    "                }\n",
    "            ],\n",
    "        }\n",
    "    ]\n",
    "    text = processor.apply_chat_template(\n",
    "        messages, tokenize=False, add_generation_prompt=True\n",
    "    )\n",
    "    image_inputs, _ = process_vision_info(messages)\n",
    "    inputs = processor(\n",
    "        text=[text],\n",
    "        images=image_inputs,\n",
    "        padding=True,\n",
    "        return_tensors=\"pt\",\n",
    "    )\n",
    "    inputs = inputs.to(\"mps\")  # TODO change to cuda for production\n",
    "\n",
    "    generated_ids = vlm.generate(**inputs, max_new_tokens=600)\n",
    "    generated_ids_trimmed = [\n",
    "        out_ids[len(in_ids) :] for in_ids, out_ids in zip(inputs.input_ids, generated_ids)\n",
    "    ]\n",
    "    output_text = processor.batch_decode(\n",
    "        generated_ids_trimmed, skip_special_tokens=True, clean_up_tokenization_spaces=False\n",
    "    )\n",
    "    return output_text[0]\n",
    "\n",
    "create_symbol_legend(legend_table)"
   ]
  },
  {
   "cell_type": "code",
   "execution_count": null,
   "id": "9f75d8a6",
   "metadata": {},
   "outputs": [],
   "source": []
  },
  {
   "cell_type": "code",
   "execution_count": null,
   "id": "9e0a97e7",
   "metadata": {},
   "outputs": [],
   "source": [
    "print(legend_table.export_to_html(doc=doc))"
   ]
  },
  {
   "cell_type": "code",
   "execution_count": null,
   "id": "ec33f760",
   "metadata": {},
   "outputs": [],
   "source": []
  },
  {
   "cell_type": "code",
   "execution_count": null,
   "id": "76827f1b",
   "metadata": {},
   "outputs": [],
   "source": [
    "from docling_core.transforms.serializer.markdown import MarkdownParams\n",
    "\n",
    "\n",
    "class ImgPlaceholderSerializerProvider(ChunkingSerializerProvider):\n",
    "    def get_serializer(self, doc):\n",
    "        return ChunkingDocSerializer(\n",
    "            doc=doc,\n",
    "            params=MarkdownParams(\n",
    "                image_placeholder=\"\",\n",
    "            ),\n",
    "        )\n",
    "\n",
    "\n",
    "chunker = HybridChunker(\n",
    "    tokenizer=tokenizer,\n",
    "    serializer_provider=ImgPlaceholderSerializerProvider(),\n",
    ")\n",
    "\n",
    "chunk_iter = chunker.chunk(dl_doc=doc.document)\n",
    "\n",
    "chunks = list(chunk_iter)"
   ]
  },
  {
   "cell_type": "code",
   "execution_count": null,
   "id": "2c479a9b",
   "metadata": {},
   "outputs": [],
   "source": [
    "annotations=[PictureDescriptionData(kind='description', text='Das Bild zeigt ein Diagramm, das den Gesundheitszustand oder -problemen in Bezug auf verschiedene Faktoren darstellt. Hier sind die wichtigsten Details:\\n\\n1. **Gesundheitszustand/-problem**: Dies ist der Anfangspunkt des Diagramms und repräsentiert den Gesundheitszustand oder -problemen, die untersucht werden sollen.\\n\\n2. **Körperfunktionen und -strukturen**: Diese sind die Grundlagen für die Aktivitäten und Partizipation. Sie umfassen Faktoren wie:\\n   - Körperfunktionen\\n   - Körperformen\\n   - Körperformen\\n\\n3. **Aktivitäten**: Diese sind die Handlungen, die der Individuum ausgeführt werden können. Sie umfassen:\\n   - Kommunikation\\n   - Mobilität\\n   - Selbstversorgung\\n   - Häusliches Leben\\n   - Interpersonelle Interaktionen und Beziehungen\\n   - Bedeutende Lebensbereiche\\n   - Gemeinschafts-, soziales und staatsbürgerliches Leben\\n\\n4. **Partizipation (Teilhabe)**: Diese sind die Fähigkeiten, die das Individuum in den verschiedenen Aktivitäten ausüben kann. Sie umfassen:\\n   - Kommunikation\\n   - Mobilität\\n   - Selbstversorgung\\n   - Häusliches Leben\\n   - Interpersonelle Interaktionen und Beziehungen\\n   - Bedeutende Lebensbereiche\\n   - Gemeinschafts-, soziales und staatsbürgerliches Leben\\n\\n5. **Umweltfaktoren**: Diese sind die Faktoren, die die Aktivitäten und Partizipation beeinflussen. Sie umfassen:\\n   - Kommunikation\\n   - Mobilität\\n   - Selbstversorgung\\n   - Häusliches Leben\\n   - Interpersonelle Interaktionen und Beziehungen\\n   - Bedeutende Lebensbereiche\\n   - Gemeinschafts-, soziales und staatsbürgerliches Leben\\n\\n6. **Personbezogene Faktoren**: Diese sind die Faktoren, die direkt auf den Gesundheitszustand oder -problemen wirken. Sie umfassen:', provenance='Qwen/Qwen2.5-VL-3B-Instruct')]),"
   ]
  },
  {
   "cell_type": "code",
   "execution_count": null,
   "id": "dca5339f",
   "metadata": {},
   "outputs": [],
   "source": [
    "PictureDescriptionData"
   ]
  },
  {
   "cell_type": "code",
   "execution_count": null,
   "id": "47572cc8",
   "metadata": {},
   "outputs": [],
   "source": [
    "from copy import deepcopy\n",
    "from docling_core.types.doc.document import PictureDescriptionData\n",
    "test_picture = deepcopy(res.document.pictures[-1])\n",
    "test_picture.annotations = [PictureDescriptionData(kind='description', text='manuell eingefügter Text', provenance='johann/manuell')]\n",
    "test_picture.annotations"
   ]
  },
  {
   "cell_type": "code",
   "execution_count": null,
   "id": "845b8037",
   "metadata": {},
   "outputs": [],
   "source": [
    "res.document.tables + [res.document.tables[-1]]"
   ]
  },
  {
   "cell_type": "code",
   "execution_count": null,
   "id": "fb0625ca",
   "metadata": {},
   "outputs": [],
   "source": [
    "doc.document.pictures[1].label == DocItemLabel.PICTURE"
   ]
  },
  {
   "cell_type": "markdown",
   "id": "1c3541ea",
   "metadata": {},
   "source": [
    "# Table embedding\n",
    "for identifying the legend table"
   ]
  },
  {
   "cell_type": "code",
   "execution_count": null,
   "id": "db85256f",
   "metadata": {},
   "outputs": [],
   "source": [
    "# Collect one string per table (or per cell, as you prefer)\n",
    "table_texts = []\n",
    "for table in res.document.tables:\n",
    "    # Join all cells in this table by rows\n",
    "    rows = []\n",
    "    for row in table.data.grid:\n",
    "        row_text = \" \\t \".join(cell.text for cell in row)\n",
    "        rows.append(row_text)\n",
    "    table_texts.append(\"\\n\".join(rows))"
   ]
  },
  {
   "cell_type": "code",
   "execution_count": null,
   "id": "f361df25",
   "metadata": {},
   "outputs": [],
   "source": [
    "table_texts[-1]"
   ]
  },
  {
   "cell_type": "code",
   "execution_count": null,
   "id": "2d32b9e9",
   "metadata": {},
   "outputs": [],
   "source": [
    "from transformers import AutoModel\n",
    "from langchain_core.vectorstores import InMemoryVectorStore\n",
    "from langchain.embeddings.base import Embeddings\n",
    "\n",
    "class CustomHFEmbeddings(Embeddings):\n",
    "    def __init__(self, hf_model):\n",
    "        self.model = hf_model\n",
    "\n",
    "    def embed_documents(self, texts: list[str]) -> list[list[float]]:\n",
    "        return self.model.encode(texts, task=\"retrieval.passage\")\n",
    "\n",
    "    def embed_query(self, text: str) -> list[float]:\n",
    "        return self.model.encode([text], task=\"retrieval.query\")[0]\n",
    "\n",
    "embedder = AutoModel.from_pretrained(\"jinaai/jina-embeddings-v3\", trust_remote_code=True)\n",
    "\n",
    "lc_embeddings = CustomHFEmbeddings(embedder)\n",
    "\n",
    "vector_store = InMemoryVectorStore(embedding=lc_embeddings)\n",
    "\n",
    "vector_store.add_texts(table_texts, ids=[table.self_ref for table in doc.tables])"
   ]
  },
  {
   "cell_type": "code",
   "execution_count": null,
   "id": "3d1f99a5",
   "metadata": {},
   "outputs": [],
   "source": [
    "legend_tabe_candidates = vector_store.similarity_search(\"Welche Empfehlungsgrade sind definiert? Was bedeuten sie?\", k=3)\n",
    "legend_table = next(table for table in doc.tables if table.self_ref == legend_tabe_candidates[0].id)"
   ]
  },
  {
   "cell_type": "code",
   "execution_count": null,
   "id": "e62f3f05",
   "metadata": {},
   "outputs": [],
   "source": []
  },
  {
   "cell_type": "code",
   "execution_count": null,
   "id": "b8f98fb4",
   "metadata": {},
   "outputs": [],
   "source": [
    "legend_table"
   ]
  },
  {
   "cell_type": "code",
   "execution_count": null,
   "id": "28db755a",
   "metadata": {},
   "outputs": [],
   "source": [
    "legend_table"
   ]
  },
  {
   "cell_type": "code",
   "execution_count": null,
   "id": "31e3bf2d",
   "metadata": {},
   "outputs": [],
   "source": [
    "from docling_core.types.doc.document import ImageRef\n",
    "def display_image_obj(image_obj: ImageRef):\n",
    "    html_image = f'<img src=\"{image_obj.uri!s}\" /><br />'\n",
    "    display(HTML(html_image))\n",
    "\n",
    "display_image_obj(legend_table.image)"
   ]
  },
  {
   "cell_type": "code",
   "execution_count": null,
   "id": "52c2df66",
   "metadata": {},
   "outputs": [],
   "source": [
    "from docling.pipeline.vlm_pipeline import VlmPipeline\n",
    "from docling.datamodel.pipeline_options import (\n",
    "    VlmPipelineOptions,\n",
    "    HuggingFaceVlmOptions,\n",
    "    ResponseFormat,\n",
    "    InferenceFramework,\n",
    ")\n",
    "from docling.models.picture_description_base_model import NodeItem\n",
    "\n",
    "# 2. Konfiguriere den VLM-Prompt mit Qwen2.5-VL-7B-Instruct\n",
    "vlm_opts = VlmPipelineOptions(\n",
    "    vlm_options=HuggingFaceVlmOptions(\n",
    "        kind=\"hf_model_options\",\n",
    "        repo_id=\"Qwen/Qwen2.5-VL-7B-Instruct\",\n",
    "        prompt=(\n",
    "            \"Bitte analysiere diese Tabelle und erkläre präzise, \"\n",
    "            \"welche Informationen sie vermittelt.\"\n",
    "        ),\n",
    "        response_format=ResponseFormat.MARKDOWN,\n",
    "        inference_framework=InferenceFramework.TRANSFORMERS,\n",
    "        load_in_8bit=False,       # optional: 4-/8-Bit Quantisierung\n",
    "        quantized=False,\n",
    "    )\n",
    ")\n",
    "\n",
    "# 3. Erstelle die Pipeline und wickle Dein Bild in ein NodeItem\n",
    "vlm = VlmPipeline(pipeline_options=vlm_opts)\n"
   ]
  },
  {
   "cell_type": "code",
   "execution_count": null,
   "id": "5b78120f",
   "metadata": {},
   "outputs": [],
   "source": [
    "node = NodeItem(\n",
    "    self_ref=legend_table.self_ref,           # the node’s own reference\n",
    "    children=[],                       # no nested children\n",
    "    content_layer=legend_table.content_layer, # usually ContentLayer.BODY\n",
    ")\n",
    "\n",
    "# 4. Führe die Analyse aus\n",
    "result = vlm.execute(node, raises_on_error=True)\n",
    "\n",
    "# 5. Gib das Markdown-Ergebnis aus\n",
    "print(result.text)"
   ]
  },
  {
   "cell_type": "code",
   "execution_count": null,
   "id": "269d8653",
   "metadata": {},
   "outputs": [],
   "source": [
    "from docling.models.hf_vlm_model import HuggingFaceVlmModel\n",
    "from docling.datamodel.pipeline_options import (\n",
    "    HuggingFaceVlmOptions, ResponseFormat, InferenceFramework, AcceleratorOptions\n",
    ")\n",
    "from docling.models.picture_description_base_model import NodeItem\n",
    "\n",
    "# 1. Baue Deine HuggingFaceVlmOptions wie gehabt\n",
    "vlm_opts = HuggingFaceVlmOptions(\n",
    "    kind=\"hf_model_options\",\n",
    "    repo_id=\"Qwen/Qwen2.5-VL-7B-Instruct\",\n",
    "    prompt=(\n",
    "        \"Beschreibe bitte präzise, welches Symbol das ist \"\n",
    "        \"und welche Bedeutung es in der Legende hat.\"\n",
    "    ),\n",
    "    response_format=ResponseFormat.MARKDOWN,\n",
    "    inference_framework=InferenceFramework.TRANSFORMERS,\n",
    "    load_in_8bit=False,\n",
    "    quantized=False,\n",
    ")\n",
    "\n",
    "# 2. Lade das VLM‐Model selbst\n",
    "hf_model = HuggingFaceVlmModel(\n",
    "    enabled=True,\n",
    "    artifacts_path=None,\n",
    "    accelerator_options=AcceleratorOptions(device=\"auto\"),  # auf Deinem M4-Pro\n",
    "    vlm_options=vlm_opts,\n",
    ")\n",
    "\n",
    "\n",
    "# 3. Schneide das Bild der Legendentabelle schon vorher (table.image)\n",
    "#    und packe es in ein NodeItem:\n",
    "node = NodeItem(\n",
    "    self_ref=legend_table.self_ref,\n",
    "    parent_ref=legend_table.parent,\n",
    "    children=[],\n",
    "    content_layer=legend_table.content_layer,\n",
    "    image=legend_table.image,\n",
    ")\n",
    "\n",
    "# 4. Rufe direkt das Model auf\n",
    "#    (die Methode kann je Version .process oder .forward heißen; hier nehmen wir .process)\n",
    "result_node = hf_model.process(node)\n",
    "\n",
    "# 5. Hol Dir den generierten Text\n",
    "print(result_node.text)"
   ]
  },
  {
   "cell_type": "code",
   "execution_count": null,
   "id": "251b58bd",
   "metadata": {},
   "outputs": [],
   "source": []
  },
  {
   "cell_type": "code",
   "execution_count": null,
   "id": "75256d09",
   "metadata": {},
   "outputs": [],
   "source": []
  },
  {
   "cell_type": "code",
   "execution_count": null,
   "id": "8495c5b3",
   "metadata": {},
   "outputs": [],
   "source": [
    "\n",
    "# 4. Führe die Analyse aus\n",
    "result = vlm.execute(legend_table, raises_on_error=True)\n",
    "\n",
    "# 5. Gib das Markdown-Ergebnis aus\n",
    "print(result.text)"
   ]
  },
  {
   "cell_type": "code",
   "execution_count": null,
   "id": "94827c6a",
   "metadata": {},
   "outputs": [],
   "source": [
    "from PIL import Image\n",
    "\n",
    "# Nach der PDF-Konvertierung hast Du:\n",
    "# res = converter.convert(...)\n",
    "#    • res.page_images: Dict[int, PIL.Image] mit allen Seitenbildern\n",
    "#    • doc = res.document mit Deinen TableItems\n",
    "\n",
    "table_images = []\n",
    "for table in doc.tables:\n",
    "    # 1. Seite und BBox auslesen\n",
    "    prov = table.prov[0]\n",
    "    page_img = res.page_images[prov.page_no]\n",
    "    bbox = prov.bbox  # Koords in PDF-Units, Ursprung unten links\n",
    "\n",
    "    # 2. Koordinaten für PIL umrechnen (Y-Achse von oben)\n",
    "    left = bbox.l\n",
    "    upper = page_img.height - bbox.b\n",
    "    right = bbox.r\n",
    "    lower = page_img.height - bbox.t\n",
    "\n",
    "    # 3. Ausschneiden und speichern\n",
    "    table_img = page_img.crop((left, upper, right, lower))\n",
    "    table_images.append(table_img)\n",
    "    # Optional: table.image = table_img  # an das TableItem anhängen\n",
    "\n",
    "# # Jetzt enthält table_images für jede Tabelle ein PIL-Image.\n",
    "# # Du kannst sie direkt anzeigen, abspeichern oder an Deinen VLM zur Analyse geben.\n",
    "# for i, img in enumerate(table_images):\n",
    "#     img.save(f\"table_{i}.png\")"
   ]
  },
  {
   "cell_type": "code",
   "execution_count": null,
   "id": "ec267322",
   "metadata": {},
   "outputs": [],
   "source": [
    "img = table.image or table.to_image(res.source)\n",
    "\n",
    "img"
   ]
  }
 ],
 "metadata": {
  "kernelspec": {
   "display_name": ".venv",
   "language": "python",
   "name": "python3"
  },
  "language_info": {
   "codemirror_mode": {
    "name": "ipython",
    "version": 3
   },
   "file_extension": ".py",
   "mimetype": "text/x-python",
   "name": "python",
   "nbconvert_exporter": "python",
   "pygments_lexer": "ipython3",
   "version": "3.13.3"
  }
 },
 "nbformat": 4,
 "nbformat_minor": 5
}
